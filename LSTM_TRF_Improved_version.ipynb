{
  "cells": [
    {
      "cell_type": "code",
      "execution_count": 1,
      "metadata": {
        "id": "GOESST47IVjm"
      },
      "outputs": [],
      "source": [
        "import yfinance as yf\n",
        "import pandas as pd\n",
        "import numpy as np\n",
        "import warnings\n",
        "import datetime\n",
        "import matplotlib.pyplot as plt\n",
        "import seaborn as sns\n",
        "import tensorflow as tf\n",
        "\n",
        "warnings.filterwarnings('ignore')\n",
        "\n",
        "from datetime import date\n",
        "\n",
        "color_pal = sns.color_palette()\n",
        "plt.style.use('fivethirtyeight')\n",
        "\n",
        "from sklearn.preprocessing import MinMaxScaler\n",
        "\n",
        "from tensorflow.keras.models import Sequential\n",
        "from tensorflow.keras.layers import Bidirectional\n",
        "from tensorflow.keras.layers import BatchNormalization\n",
        "from tensorflow.keras.layers import LSTM, Dense, Dropout, Layer\n",
        "from tensorflow.keras.optimizers import Adam\n",
        "from keras.callbacks import ReduceLROnPlateau, EarlyStopping"
      ]
    },
    {
      "cell_type": "markdown",
      "metadata": {
        "id": "TMPvaRYHIVjn"
      },
      "source": [
        "Preprocessing Part"
      ]
    },
    {
      "cell_type": "code",
      "execution_count": 2,
      "metadata": {
        "id": "UBG6KsF3IVjo"
      },
      "outputs": [],
      "source": [
        "start_date ='2000-02-01'\n",
        "end_date = '2024-12-13'\n"
      ]
    },
    {
      "cell_type": "code",
      "execution_count": 3,
      "metadata": {
        "id": "0V96RgN-IVjo"
      },
      "outputs": [],
      "source": [
        "def creating_features(data):\n",
        "  data = data.copy()\n",
        "  data.columns = ['_'.join(col).strip() if isinstance(col, tuple) else col for col in data.columns]\n",
        "  data = data.filter(regex='^Close')\n",
        "  #data['Date'] = data.index.date\n",
        "  #data['Date'] = pd.to_datetime(data['Date'])\n",
        "  return data"
      ]
    },
    {
      "cell_type": "code",
      "execution_count": 4,
      "metadata": {
        "colab": {
          "base_uri": "https://localhost:8080/"
        },
        "id": "ogOkyi4xIVjo",
        "outputId": "fed775e0-fb48-4c4b-8b99-0cd998d1ddf8"
      },
      "outputs": [
        {
          "output_type": "stream",
          "name": "stderr",
          "text": [
            "\r[*********************100%***********************]  1 of 1 completed\n"
          ]
        }
      ],
      "source": [
        "#Features_agglomorated\n",
        "tickers = ['GC=F']\n",
        "\n",
        "# Download historical data\n",
        "features = yf.download(tickers, start= start_date, end=end_date, interval='1d')\n",
        "#features = yf.download(tickers, end=end_date, interval='1d')"
      ]
    },
    {
      "cell_type": "code",
      "execution_count": 5,
      "metadata": {
        "id": "z3btL_XAIVjp"
      },
      "outputs": [],
      "source": [
        "final_data= creating_features(features).dropna()"
      ]
    },
    {
      "cell_type": "code",
      "source": [
        "final_data.shape"
      ],
      "metadata": {
        "colab": {
          "base_uri": "https://localhost:8080/"
        },
        "id": "iP_FFBC8HH_-",
        "outputId": "f5671f2b-09e0-4bf4-af7f-52071dc8a78f"
      },
      "execution_count": 6,
      "outputs": [
        {
          "output_type": "execute_result",
          "data": {
            "text/plain": [
              "(6094, 1)"
            ]
          },
          "metadata": {},
          "execution_count": 6
        }
      ]
    },
    {
      "cell_type": "code",
      "source": [
        "final_data.head(7)"
      ],
      "metadata": {
        "colab": {
          "base_uri": "https://localhost:8080/",
          "height": 300
        },
        "id": "AtlLCxfAKfsQ",
        "outputId": "e85d0ade-744b-4b02-8d6d-01a05035aadf"
      },
      "execution_count": 7,
      "outputs": [
        {
          "output_type": "execute_result",
          "data": {
            "text/plain": [
              "            Close_GC=F\n",
              "Date                  \n",
              "2000-08-30  273.899994\n",
              "2000-08-31  278.299988\n",
              "2000-09-01  277.000000\n",
              "2000-09-05  275.799988\n",
              "2000-09-06  274.200012\n",
              "2000-09-07  274.000000\n",
              "2000-09-08  273.299988"
            ],
            "text/html": [
              "\n",
              "  <div id=\"df-41190c7f-73a4-466e-a4b8-5caf2741b502\" class=\"colab-df-container\">\n",
              "    <div>\n",
              "<style scoped>\n",
              "    .dataframe tbody tr th:only-of-type {\n",
              "        vertical-align: middle;\n",
              "    }\n",
              "\n",
              "    .dataframe tbody tr th {\n",
              "        vertical-align: top;\n",
              "    }\n",
              "\n",
              "    .dataframe thead th {\n",
              "        text-align: right;\n",
              "    }\n",
              "</style>\n",
              "<table border=\"1\" class=\"dataframe\">\n",
              "  <thead>\n",
              "    <tr style=\"text-align: right;\">\n",
              "      <th></th>\n",
              "      <th>Close_GC=F</th>\n",
              "    </tr>\n",
              "    <tr>\n",
              "      <th>Date</th>\n",
              "      <th></th>\n",
              "    </tr>\n",
              "  </thead>\n",
              "  <tbody>\n",
              "    <tr>\n",
              "      <th>2000-08-30</th>\n",
              "      <td>273.899994</td>\n",
              "    </tr>\n",
              "    <tr>\n",
              "      <th>2000-08-31</th>\n",
              "      <td>278.299988</td>\n",
              "    </tr>\n",
              "    <tr>\n",
              "      <th>2000-09-01</th>\n",
              "      <td>277.000000</td>\n",
              "    </tr>\n",
              "    <tr>\n",
              "      <th>2000-09-05</th>\n",
              "      <td>275.799988</td>\n",
              "    </tr>\n",
              "    <tr>\n",
              "      <th>2000-09-06</th>\n",
              "      <td>274.200012</td>\n",
              "    </tr>\n",
              "    <tr>\n",
              "      <th>2000-09-07</th>\n",
              "      <td>274.000000</td>\n",
              "    </tr>\n",
              "    <tr>\n",
              "      <th>2000-09-08</th>\n",
              "      <td>273.299988</td>\n",
              "    </tr>\n",
              "  </tbody>\n",
              "</table>\n",
              "</div>\n",
              "    <div class=\"colab-df-buttons\">\n",
              "\n",
              "  <div class=\"colab-df-container\">\n",
              "    <button class=\"colab-df-convert\" onclick=\"convertToInteractive('df-41190c7f-73a4-466e-a4b8-5caf2741b502')\"\n",
              "            title=\"Convert this dataframe to an interactive table.\"\n",
              "            style=\"display:none;\">\n",
              "\n",
              "  <svg xmlns=\"http://www.w3.org/2000/svg\" height=\"24px\" viewBox=\"0 -960 960 960\">\n",
              "    <path d=\"M120-120v-720h720v720H120Zm60-500h600v-160H180v160Zm220 220h160v-160H400v160Zm0 220h160v-160H400v160ZM180-400h160v-160H180v160Zm440 0h160v-160H620v160ZM180-180h160v-160H180v160Zm440 0h160v-160H620v160Z\"/>\n",
              "  </svg>\n",
              "    </button>\n",
              "\n",
              "  <style>\n",
              "    .colab-df-container {\n",
              "      display:flex;\n",
              "      gap: 12px;\n",
              "    }\n",
              "\n",
              "    .colab-df-convert {\n",
              "      background-color: #E8F0FE;\n",
              "      border: none;\n",
              "      border-radius: 50%;\n",
              "      cursor: pointer;\n",
              "      display: none;\n",
              "      fill: #1967D2;\n",
              "      height: 32px;\n",
              "      padding: 0 0 0 0;\n",
              "      width: 32px;\n",
              "    }\n",
              "\n",
              "    .colab-df-convert:hover {\n",
              "      background-color: #E2EBFA;\n",
              "      box-shadow: 0px 1px 2px rgba(60, 64, 67, 0.3), 0px 1px 3px 1px rgba(60, 64, 67, 0.15);\n",
              "      fill: #174EA6;\n",
              "    }\n",
              "\n",
              "    .colab-df-buttons div {\n",
              "      margin-bottom: 4px;\n",
              "    }\n",
              "\n",
              "    [theme=dark] .colab-df-convert {\n",
              "      background-color: #3B4455;\n",
              "      fill: #D2E3FC;\n",
              "    }\n",
              "\n",
              "    [theme=dark] .colab-df-convert:hover {\n",
              "      background-color: #434B5C;\n",
              "      box-shadow: 0px 1px 3px 1px rgba(0, 0, 0, 0.15);\n",
              "      filter: drop-shadow(0px 1px 2px rgba(0, 0, 0, 0.3));\n",
              "      fill: #FFFFFF;\n",
              "    }\n",
              "  </style>\n",
              "\n",
              "    <script>\n",
              "      const buttonEl =\n",
              "        document.querySelector('#df-41190c7f-73a4-466e-a4b8-5caf2741b502 button.colab-df-convert');\n",
              "      buttonEl.style.display =\n",
              "        google.colab.kernel.accessAllowed ? 'block' : 'none';\n",
              "\n",
              "      async function convertToInteractive(key) {\n",
              "        const element = document.querySelector('#df-41190c7f-73a4-466e-a4b8-5caf2741b502');\n",
              "        const dataTable =\n",
              "          await google.colab.kernel.invokeFunction('convertToInteractive',\n",
              "                                                    [key], {});\n",
              "        if (!dataTable) return;\n",
              "\n",
              "        const docLinkHtml = 'Like what you see? Visit the ' +\n",
              "          '<a target=\"_blank\" href=https://colab.research.google.com/notebooks/data_table.ipynb>data table notebook</a>'\n",
              "          + ' to learn more about interactive tables.';\n",
              "        element.innerHTML = '';\n",
              "        dataTable['output_type'] = 'display_data';\n",
              "        await google.colab.output.renderOutput(dataTable, element);\n",
              "        const docLink = document.createElement('div');\n",
              "        docLink.innerHTML = docLinkHtml;\n",
              "        element.appendChild(docLink);\n",
              "      }\n",
              "    </script>\n",
              "  </div>\n",
              "\n",
              "\n",
              "<div id=\"df-fbc8a834-0dd3-4572-bfee-731516b8bd94\">\n",
              "  <button class=\"colab-df-quickchart\" onclick=\"quickchart('df-fbc8a834-0dd3-4572-bfee-731516b8bd94')\"\n",
              "            title=\"Suggest charts\"\n",
              "            style=\"display:none;\">\n",
              "\n",
              "<svg xmlns=\"http://www.w3.org/2000/svg\" height=\"24px\"viewBox=\"0 0 24 24\"\n",
              "     width=\"24px\">\n",
              "    <g>\n",
              "        <path d=\"M19 3H5c-1.1 0-2 .9-2 2v14c0 1.1.9 2 2 2h14c1.1 0 2-.9 2-2V5c0-1.1-.9-2-2-2zM9 17H7v-7h2v7zm4 0h-2V7h2v10zm4 0h-2v-4h2v4z\"/>\n",
              "    </g>\n",
              "</svg>\n",
              "  </button>\n",
              "\n",
              "<style>\n",
              "  .colab-df-quickchart {\n",
              "      --bg-color: #E8F0FE;\n",
              "      --fill-color: #1967D2;\n",
              "      --hover-bg-color: #E2EBFA;\n",
              "      --hover-fill-color: #174EA6;\n",
              "      --disabled-fill-color: #AAA;\n",
              "      --disabled-bg-color: #DDD;\n",
              "  }\n",
              "\n",
              "  [theme=dark] .colab-df-quickchart {\n",
              "      --bg-color: #3B4455;\n",
              "      --fill-color: #D2E3FC;\n",
              "      --hover-bg-color: #434B5C;\n",
              "      --hover-fill-color: #FFFFFF;\n",
              "      --disabled-bg-color: #3B4455;\n",
              "      --disabled-fill-color: #666;\n",
              "  }\n",
              "\n",
              "  .colab-df-quickchart {\n",
              "    background-color: var(--bg-color);\n",
              "    border: none;\n",
              "    border-radius: 50%;\n",
              "    cursor: pointer;\n",
              "    display: none;\n",
              "    fill: var(--fill-color);\n",
              "    height: 32px;\n",
              "    padding: 0;\n",
              "    width: 32px;\n",
              "  }\n",
              "\n",
              "  .colab-df-quickchart:hover {\n",
              "    background-color: var(--hover-bg-color);\n",
              "    box-shadow: 0 1px 2px rgba(60, 64, 67, 0.3), 0 1px 3px 1px rgba(60, 64, 67, 0.15);\n",
              "    fill: var(--button-hover-fill-color);\n",
              "  }\n",
              "\n",
              "  .colab-df-quickchart-complete:disabled,\n",
              "  .colab-df-quickchart-complete:disabled:hover {\n",
              "    background-color: var(--disabled-bg-color);\n",
              "    fill: var(--disabled-fill-color);\n",
              "    box-shadow: none;\n",
              "  }\n",
              "\n",
              "  .colab-df-spinner {\n",
              "    border: 2px solid var(--fill-color);\n",
              "    border-color: transparent;\n",
              "    border-bottom-color: var(--fill-color);\n",
              "    animation:\n",
              "      spin 1s steps(1) infinite;\n",
              "  }\n",
              "\n",
              "  @keyframes spin {\n",
              "    0% {\n",
              "      border-color: transparent;\n",
              "      border-bottom-color: var(--fill-color);\n",
              "      border-left-color: var(--fill-color);\n",
              "    }\n",
              "    20% {\n",
              "      border-color: transparent;\n",
              "      border-left-color: var(--fill-color);\n",
              "      border-top-color: var(--fill-color);\n",
              "    }\n",
              "    30% {\n",
              "      border-color: transparent;\n",
              "      border-left-color: var(--fill-color);\n",
              "      border-top-color: var(--fill-color);\n",
              "      border-right-color: var(--fill-color);\n",
              "    }\n",
              "    40% {\n",
              "      border-color: transparent;\n",
              "      border-right-color: var(--fill-color);\n",
              "      border-top-color: var(--fill-color);\n",
              "    }\n",
              "    60% {\n",
              "      border-color: transparent;\n",
              "      border-right-color: var(--fill-color);\n",
              "    }\n",
              "    80% {\n",
              "      border-color: transparent;\n",
              "      border-right-color: var(--fill-color);\n",
              "      border-bottom-color: var(--fill-color);\n",
              "    }\n",
              "    90% {\n",
              "      border-color: transparent;\n",
              "      border-bottom-color: var(--fill-color);\n",
              "    }\n",
              "  }\n",
              "</style>\n",
              "\n",
              "  <script>\n",
              "    async function quickchart(key) {\n",
              "      const quickchartButtonEl =\n",
              "        document.querySelector('#' + key + ' button');\n",
              "      quickchartButtonEl.disabled = true;  // To prevent multiple clicks.\n",
              "      quickchartButtonEl.classList.add('colab-df-spinner');\n",
              "      try {\n",
              "        const charts = await google.colab.kernel.invokeFunction(\n",
              "            'suggestCharts', [key], {});\n",
              "      } catch (error) {\n",
              "        console.error('Error during call to suggestCharts:', error);\n",
              "      }\n",
              "      quickchartButtonEl.classList.remove('colab-df-spinner');\n",
              "      quickchartButtonEl.classList.add('colab-df-quickchart-complete');\n",
              "    }\n",
              "    (() => {\n",
              "      let quickchartButtonEl =\n",
              "        document.querySelector('#df-fbc8a834-0dd3-4572-bfee-731516b8bd94 button');\n",
              "      quickchartButtonEl.style.display =\n",
              "        google.colab.kernel.accessAllowed ? 'block' : 'none';\n",
              "    })();\n",
              "  </script>\n",
              "</div>\n",
              "\n",
              "    </div>\n",
              "  </div>\n"
            ],
            "application/vnd.google.colaboratory.intrinsic+json": {
              "type": "dataframe",
              "variable_name": "final_data",
              "summary": "{\n  \"name\": \"final_data\",\n  \"rows\": 6094,\n  \"fields\": [\n    {\n      \"column\": \"Date\",\n      \"properties\": {\n        \"dtype\": \"date\",\n        \"min\": \"2000-08-30 00:00:00\",\n        \"max\": \"2024-12-12 00:00:00\",\n        \"num_unique_values\": 6094,\n        \"samples\": [\n          \"2014-01-02 00:00:00\",\n          \"2008-11-03 00:00:00\",\n          \"2014-04-01 00:00:00\"\n        ],\n        \"semantic_type\": \"\",\n        \"description\": \"\"\n      }\n    },\n    {\n      \"column\": \"Close_GC=F\",\n      \"properties\": {\n        \"dtype\": \"number\",\n        \"std\": 577.461809716306,\n        \"min\": 255.10000610351562,\n        \"max\": 2788.5,\n        \"num_unique_values\": 4842,\n        \"samples\": [\n          2740.89990234375,\n          1147.199951171875,\n          1370.5999755859375\n        ],\n        \"semantic_type\": \"\",\n        \"description\": \"\"\n      }\n    }\n  ]\n}"
            }
          },
          "metadata": {},
          "execution_count": 7
        }
      ]
    },
    {
      "cell_type": "code",
      "source": [
        "final_data.tail()"
      ],
      "metadata": {
        "colab": {
          "base_uri": "https://localhost:8080/",
          "height": 237
        },
        "id": "MgakACCboTh5",
        "outputId": "71683379-ed93-43eb-c49b-fdcdbfc4f9ae"
      },
      "execution_count": 8,
      "outputs": [
        {
          "output_type": "execute_result",
          "data": {
            "text/plain": [
              "             Close_GC=F\n",
              "Date                   \n",
              "2024-12-06  2638.600098\n",
              "2024-12-09  2664.899902\n",
              "2024-12-10  2697.600098\n",
              "2024-12-11  2733.800049\n",
              "2024-12-12  2687.500000"
            ],
            "text/html": [
              "\n",
              "  <div id=\"df-f32e4fd5-ca36-49ae-ab3f-7c2954bb5295\" class=\"colab-df-container\">\n",
              "    <div>\n",
              "<style scoped>\n",
              "    .dataframe tbody tr th:only-of-type {\n",
              "        vertical-align: middle;\n",
              "    }\n",
              "\n",
              "    .dataframe tbody tr th {\n",
              "        vertical-align: top;\n",
              "    }\n",
              "\n",
              "    .dataframe thead th {\n",
              "        text-align: right;\n",
              "    }\n",
              "</style>\n",
              "<table border=\"1\" class=\"dataframe\">\n",
              "  <thead>\n",
              "    <tr style=\"text-align: right;\">\n",
              "      <th></th>\n",
              "      <th>Close_GC=F</th>\n",
              "    </tr>\n",
              "    <tr>\n",
              "      <th>Date</th>\n",
              "      <th></th>\n",
              "    </tr>\n",
              "  </thead>\n",
              "  <tbody>\n",
              "    <tr>\n",
              "      <th>2024-12-06</th>\n",
              "      <td>2638.600098</td>\n",
              "    </tr>\n",
              "    <tr>\n",
              "      <th>2024-12-09</th>\n",
              "      <td>2664.899902</td>\n",
              "    </tr>\n",
              "    <tr>\n",
              "      <th>2024-12-10</th>\n",
              "      <td>2697.600098</td>\n",
              "    </tr>\n",
              "    <tr>\n",
              "      <th>2024-12-11</th>\n",
              "      <td>2733.800049</td>\n",
              "    </tr>\n",
              "    <tr>\n",
              "      <th>2024-12-12</th>\n",
              "      <td>2687.500000</td>\n",
              "    </tr>\n",
              "  </tbody>\n",
              "</table>\n",
              "</div>\n",
              "    <div class=\"colab-df-buttons\">\n",
              "\n",
              "  <div class=\"colab-df-container\">\n",
              "    <button class=\"colab-df-convert\" onclick=\"convertToInteractive('df-f32e4fd5-ca36-49ae-ab3f-7c2954bb5295')\"\n",
              "            title=\"Convert this dataframe to an interactive table.\"\n",
              "            style=\"display:none;\">\n",
              "\n",
              "  <svg xmlns=\"http://www.w3.org/2000/svg\" height=\"24px\" viewBox=\"0 -960 960 960\">\n",
              "    <path d=\"M120-120v-720h720v720H120Zm60-500h600v-160H180v160Zm220 220h160v-160H400v160Zm0 220h160v-160H400v160ZM180-400h160v-160H180v160Zm440 0h160v-160H620v160ZM180-180h160v-160H180v160Zm440 0h160v-160H620v160Z\"/>\n",
              "  </svg>\n",
              "    </button>\n",
              "\n",
              "  <style>\n",
              "    .colab-df-container {\n",
              "      display:flex;\n",
              "      gap: 12px;\n",
              "    }\n",
              "\n",
              "    .colab-df-convert {\n",
              "      background-color: #E8F0FE;\n",
              "      border: none;\n",
              "      border-radius: 50%;\n",
              "      cursor: pointer;\n",
              "      display: none;\n",
              "      fill: #1967D2;\n",
              "      height: 32px;\n",
              "      padding: 0 0 0 0;\n",
              "      width: 32px;\n",
              "    }\n",
              "\n",
              "    .colab-df-convert:hover {\n",
              "      background-color: #E2EBFA;\n",
              "      box-shadow: 0px 1px 2px rgba(60, 64, 67, 0.3), 0px 1px 3px 1px rgba(60, 64, 67, 0.15);\n",
              "      fill: #174EA6;\n",
              "    }\n",
              "\n",
              "    .colab-df-buttons div {\n",
              "      margin-bottom: 4px;\n",
              "    }\n",
              "\n",
              "    [theme=dark] .colab-df-convert {\n",
              "      background-color: #3B4455;\n",
              "      fill: #D2E3FC;\n",
              "    }\n",
              "\n",
              "    [theme=dark] .colab-df-convert:hover {\n",
              "      background-color: #434B5C;\n",
              "      box-shadow: 0px 1px 3px 1px rgba(0, 0, 0, 0.15);\n",
              "      filter: drop-shadow(0px 1px 2px rgba(0, 0, 0, 0.3));\n",
              "      fill: #FFFFFF;\n",
              "    }\n",
              "  </style>\n",
              "\n",
              "    <script>\n",
              "      const buttonEl =\n",
              "        document.querySelector('#df-f32e4fd5-ca36-49ae-ab3f-7c2954bb5295 button.colab-df-convert');\n",
              "      buttonEl.style.display =\n",
              "        google.colab.kernel.accessAllowed ? 'block' : 'none';\n",
              "\n",
              "      async function convertToInteractive(key) {\n",
              "        const element = document.querySelector('#df-f32e4fd5-ca36-49ae-ab3f-7c2954bb5295');\n",
              "        const dataTable =\n",
              "          await google.colab.kernel.invokeFunction('convertToInteractive',\n",
              "                                                    [key], {});\n",
              "        if (!dataTable) return;\n",
              "\n",
              "        const docLinkHtml = 'Like what you see? Visit the ' +\n",
              "          '<a target=\"_blank\" href=https://colab.research.google.com/notebooks/data_table.ipynb>data table notebook</a>'\n",
              "          + ' to learn more about interactive tables.';\n",
              "        element.innerHTML = '';\n",
              "        dataTable['output_type'] = 'display_data';\n",
              "        await google.colab.output.renderOutput(dataTable, element);\n",
              "        const docLink = document.createElement('div');\n",
              "        docLink.innerHTML = docLinkHtml;\n",
              "        element.appendChild(docLink);\n",
              "      }\n",
              "    </script>\n",
              "  </div>\n",
              "\n",
              "\n",
              "<div id=\"df-e9ecc6e3-856d-4ae7-82d1-c30a1dc5fa35\">\n",
              "  <button class=\"colab-df-quickchart\" onclick=\"quickchart('df-e9ecc6e3-856d-4ae7-82d1-c30a1dc5fa35')\"\n",
              "            title=\"Suggest charts\"\n",
              "            style=\"display:none;\">\n",
              "\n",
              "<svg xmlns=\"http://www.w3.org/2000/svg\" height=\"24px\"viewBox=\"0 0 24 24\"\n",
              "     width=\"24px\">\n",
              "    <g>\n",
              "        <path d=\"M19 3H5c-1.1 0-2 .9-2 2v14c0 1.1.9 2 2 2h14c1.1 0 2-.9 2-2V5c0-1.1-.9-2-2-2zM9 17H7v-7h2v7zm4 0h-2V7h2v10zm4 0h-2v-4h2v4z\"/>\n",
              "    </g>\n",
              "</svg>\n",
              "  </button>\n",
              "\n",
              "<style>\n",
              "  .colab-df-quickchart {\n",
              "      --bg-color: #E8F0FE;\n",
              "      --fill-color: #1967D2;\n",
              "      --hover-bg-color: #E2EBFA;\n",
              "      --hover-fill-color: #174EA6;\n",
              "      --disabled-fill-color: #AAA;\n",
              "      --disabled-bg-color: #DDD;\n",
              "  }\n",
              "\n",
              "  [theme=dark] .colab-df-quickchart {\n",
              "      --bg-color: #3B4455;\n",
              "      --fill-color: #D2E3FC;\n",
              "      --hover-bg-color: #434B5C;\n",
              "      --hover-fill-color: #FFFFFF;\n",
              "      --disabled-bg-color: #3B4455;\n",
              "      --disabled-fill-color: #666;\n",
              "  }\n",
              "\n",
              "  .colab-df-quickchart {\n",
              "    background-color: var(--bg-color);\n",
              "    border: none;\n",
              "    border-radius: 50%;\n",
              "    cursor: pointer;\n",
              "    display: none;\n",
              "    fill: var(--fill-color);\n",
              "    height: 32px;\n",
              "    padding: 0;\n",
              "    width: 32px;\n",
              "  }\n",
              "\n",
              "  .colab-df-quickchart:hover {\n",
              "    background-color: var(--hover-bg-color);\n",
              "    box-shadow: 0 1px 2px rgba(60, 64, 67, 0.3), 0 1px 3px 1px rgba(60, 64, 67, 0.15);\n",
              "    fill: var(--button-hover-fill-color);\n",
              "  }\n",
              "\n",
              "  .colab-df-quickchart-complete:disabled,\n",
              "  .colab-df-quickchart-complete:disabled:hover {\n",
              "    background-color: var(--disabled-bg-color);\n",
              "    fill: var(--disabled-fill-color);\n",
              "    box-shadow: none;\n",
              "  }\n",
              "\n",
              "  .colab-df-spinner {\n",
              "    border: 2px solid var(--fill-color);\n",
              "    border-color: transparent;\n",
              "    border-bottom-color: var(--fill-color);\n",
              "    animation:\n",
              "      spin 1s steps(1) infinite;\n",
              "  }\n",
              "\n",
              "  @keyframes spin {\n",
              "    0% {\n",
              "      border-color: transparent;\n",
              "      border-bottom-color: var(--fill-color);\n",
              "      border-left-color: var(--fill-color);\n",
              "    }\n",
              "    20% {\n",
              "      border-color: transparent;\n",
              "      border-left-color: var(--fill-color);\n",
              "      border-top-color: var(--fill-color);\n",
              "    }\n",
              "    30% {\n",
              "      border-color: transparent;\n",
              "      border-left-color: var(--fill-color);\n",
              "      border-top-color: var(--fill-color);\n",
              "      border-right-color: var(--fill-color);\n",
              "    }\n",
              "    40% {\n",
              "      border-color: transparent;\n",
              "      border-right-color: var(--fill-color);\n",
              "      border-top-color: var(--fill-color);\n",
              "    }\n",
              "    60% {\n",
              "      border-color: transparent;\n",
              "      border-right-color: var(--fill-color);\n",
              "    }\n",
              "    80% {\n",
              "      border-color: transparent;\n",
              "      border-right-color: var(--fill-color);\n",
              "      border-bottom-color: var(--fill-color);\n",
              "    }\n",
              "    90% {\n",
              "      border-color: transparent;\n",
              "      border-bottom-color: var(--fill-color);\n",
              "    }\n",
              "  }\n",
              "</style>\n",
              "\n",
              "  <script>\n",
              "    async function quickchart(key) {\n",
              "      const quickchartButtonEl =\n",
              "        document.querySelector('#' + key + ' button');\n",
              "      quickchartButtonEl.disabled = true;  // To prevent multiple clicks.\n",
              "      quickchartButtonEl.classList.add('colab-df-spinner');\n",
              "      try {\n",
              "        const charts = await google.colab.kernel.invokeFunction(\n",
              "            'suggestCharts', [key], {});\n",
              "      } catch (error) {\n",
              "        console.error('Error during call to suggestCharts:', error);\n",
              "      }\n",
              "      quickchartButtonEl.classList.remove('colab-df-spinner');\n",
              "      quickchartButtonEl.classList.add('colab-df-quickchart-complete');\n",
              "    }\n",
              "    (() => {\n",
              "      let quickchartButtonEl =\n",
              "        document.querySelector('#df-e9ecc6e3-856d-4ae7-82d1-c30a1dc5fa35 button');\n",
              "      quickchartButtonEl.style.display =\n",
              "        google.colab.kernel.accessAllowed ? 'block' : 'none';\n",
              "    })();\n",
              "  </script>\n",
              "</div>\n",
              "\n",
              "    </div>\n",
              "  </div>\n"
            ],
            "application/vnd.google.colaboratory.intrinsic+json": {
              "type": "dataframe",
              "summary": "{\n  \"name\": \"final_data\",\n  \"rows\": 5,\n  \"fields\": [\n    {\n      \"column\": \"Date\",\n      \"properties\": {\n        \"dtype\": \"date\",\n        \"min\": \"2024-12-06 00:00:00\",\n        \"max\": \"2024-12-12 00:00:00\",\n        \"num_unique_values\": 5,\n        \"samples\": [\n          \"2024-12-09 00:00:00\",\n          \"2024-12-12 00:00:00\",\n          \"2024-12-10 00:00:00\"\n        ],\n        \"semantic_type\": \"\",\n        \"description\": \"\"\n      }\n    },\n    {\n      \"column\": \"Close_GC=F\",\n      \"properties\": {\n        \"dtype\": \"number\",\n        \"std\": 35.71438870474407,\n        \"min\": 2638.60009765625,\n        \"max\": 2733.800048828125,\n        \"num_unique_values\": 5,\n        \"samples\": [\n          2664.89990234375,\n          2687.5,\n          2697.60009765625\n        ],\n        \"semantic_type\": \"\",\n        \"description\": \"\"\n      }\n    }\n  ]\n}"
            }
          },
          "metadata": {},
          "execution_count": 8
        }
      ]
    },
    {
      "cell_type": "code",
      "source": [
        "seq_length = 63"
      ],
      "metadata": {
        "id": "WPfzrHu3YtPo"
      },
      "execution_count": 9,
      "outputs": []
    },
    {
      "cell_type": "code",
      "source": [
        "def create_sequences(data, seq_len):\n",
        "    X, y = [], []\n",
        "    for i in range(len(data) - seq_len):\n",
        "        X.append(data[i:(i + seq_len)])\n",
        "        y.append(data[i + seq_len])\n",
        "    return np.array(X), np.array(y)"
      ],
      "metadata": {
        "id": "QK4uBps6KG7x"
      },
      "execution_count": 10,
      "outputs": []
    },
    {
      "cell_type": "code",
      "source": [
        "def prepare_data(df, feature_column, seq_len=seq_length):\n",
        "    data = df[feature_column].values.reshape(-1, 1)\n",
        "\n",
        "    X, y = create_sequences(data, seq_len)\n",
        "\n",
        "    train_size = int(len(X) * 0.7)\n",
        "    val_size = int(len(X) * 0.2)\n",
        "\n",
        "    X_train = X[:train_size]\n",
        "    y_train = y[:train_size]\n",
        "\n",
        "    X_val = X[train_size:train_size+val_size]\n",
        "    y_val = y[train_size:train_size+val_size]\n",
        "\n",
        "    X_test = X[train_size+val_size:]\n",
        "    y_test = y[train_size+val_size:]\n",
        "\n",
        "    scaler = MinMaxScaler()\n",
        "\n",
        "    X_train_reshaped = X_train.reshape(-1, 1)\n",
        "    scaler = scaler.fit(X_train_reshaped)\n",
        "\n",
        "    X_train_scaled = scaler.transform(X_train_reshaped).reshape(X_train.shape)\n",
        "    X_val_scaled = scaler.transform(X_val.reshape(-1, 1)).reshape(X_val.shape)\n",
        "    X_test_scaled = scaler.transform(X_test.reshape(-1, 1)).reshape(X_test.shape)\n",
        "\n",
        "    y_train_scaled = scaler.transform(y_train)\n",
        "    y_val_scaled = scaler.transform(y_val)\n",
        "    y_test_scaled = scaler.transform(y_test)\n",
        "\n",
        "    return X_train_scaled, X_val_scaled, X_test_scaled, y_train_scaled, y_val_scaled, y_test_scaled, scaler"
      ],
      "metadata": {
        "id": "fgCqZNGwHx57"
      },
      "execution_count": 11,
      "outputs": []
    },
    {
      "cell_type": "code",
      "source": [
        "def forecast_future(model, last_sequence, scaler, horizon):\n",
        "\n",
        "    future_predictions = []\n",
        "    current_sequence = last_sequence.copy()\n",
        "\n",
        "    for _ in range(horizon):\n",
        "\n",
        "        next_pred = model.predict(current_sequence.reshape(1, -1, 1), verbose=0)\n",
        "        future_predictions.append(next_pred[0, 0])\n",
        "\n",
        "        current_sequence = np.roll(current_sequence, -1)\n",
        "        current_sequence[-1] = next_pred\n",
        "\n",
        "    future_predictions = np.array(future_predictions).reshape(-1, 1)\n",
        "    future_predictions = scaler.inverse_transform(future_predictions)\n",
        "\n",
        "    return future_predictions"
      ],
      "metadata": {
        "id": "UapyvPkVJSix"
      },
      "execution_count": 12,
      "outputs": []
    },
    {
      "cell_type": "code",
      "source": [
        "class AttentionLayer(Layer):\n",
        "   def __init__(self, **kwargs):\n",
        "       super(AttentionLayer, self).__init__(**kwargs)\n",
        "\n",
        "   def build(self, input_shape):\n",
        "       self.W = self.add_weight(name='attention_weight',\n",
        "                               shape=(input_shape[-1], 1),\n",
        "                               initializer='random_normal',\n",
        "                               trainable=True)\n",
        "       self.b = self.add_weight(name='attention_bias',\n",
        "                               shape=(input_shape[1], 1),\n",
        "                               initializer='zeros',\n",
        "                               trainable=True)\n",
        "\n",
        "   def call(self, inputs):\n",
        "       e = tf.tanh(tf.matmul(inputs, self.W) + self.b)\n",
        "       a = tf.nn.softmax(e, axis=1)\n",
        "       output = inputs * a\n",
        "       return tf.reduce_sum(output, axis=1)"
      ],
      "metadata": {
        "id": "Y9a-5XVMdH-U"
      },
      "execution_count": 13,
      "outputs": []
    },
    {
      "cell_type": "code",
      "source": [
        "class ResidualWrapper(tf.keras.Model):\n",
        "    def __init__(self, model):\n",
        "        super().__init__()\n",
        "        self.model = model\n",
        "\n",
        "    def call(self, inputs, *args, **kwargs):\n",
        "        delta = self.model(inputs, *args, **kwargs)\n",
        "        return inputs + delta"
      ],
      "metadata": {
        "id": "IgLJGUbTEApk"
      },
      "execution_count": 14,
      "outputs": []
    },
    {
      "cell_type": "code",
      "source": [
        "def lstm_trf(seq_len, features=1):\n",
        "\n",
        "    model2 = Sequential([\n",
        "\n",
        "        # First LSTM stack with residual connection\n",
        "        ResidualWrapper(\n",
        "            Sequential([\n",
        "                Bidirectional(LSTM(128, activation='tanh', return_sequences=True,\n",
        "                                 input_shape=(seq_len, features))),\n",
        "                BatchNormalization(),\n",
        "                Dropout(0.3)\n",
        "            ])\n",
        "        ),\n",
        "\n",
        "        # Second LSTM stack\n",
        "        Bidirectional(LSTM(64, activation='tanh', return_sequences=True)),\n",
        "        BatchNormalization(),\n",
        "        AttentionLayer(),\n",
        "        Dropout(0.3),\n",
        "\n",
        "        # Deeper dense layers with gradual dimension reduction\n",
        "        Dense(128, activation='relu'),\n",
        "        BatchNormalization(),\n",
        "        Dropout(0.3),\n",
        "\n",
        "        Dense(64, activation='relu'),\n",
        "        BatchNormalization(),\n",
        "        Dropout(0.2),\n",
        "\n",
        "        Dense(32, activation='relu'),\n",
        "        BatchNormalization(),\n",
        "        Dropout(0.2),\n",
        "\n",
        "        Dense(1)\n",
        "    ])\n",
        "\n",
        "    optimizer = Adam(learning_rate=0.001)\n",
        "    model2.compile(optimizer=optimizer,\n",
        "                  loss='huber',\n",
        "                  metrics=['mae', 'mse'])\n",
        "\n",
        "    return model2,get_callbacks()"
      ],
      "metadata": {
        "id": "4KrGTuiMF_Jk"
      },
      "execution_count": 15,
      "outputs": []
    },
    {
      "cell_type": "code",
      "source": [
        "def get_callbacks():\n",
        "    return [\n",
        "        ReduceLROnPlateau(\n",
        "            monitor='val_loss',\n",
        "            factor=0.5,\n",
        "            patience=5,\n",
        "            min_lr=1e-6,\n",
        "            verbose=1\n",
        "        ),\n",
        "        EarlyStopping(\n",
        "            monitor='val_loss',\n",
        "            patience=15,\n",
        "            restore_best_weights=True,\n",
        "            verbose=1\n",
        "        )\n",
        "    ]"
      ],
      "metadata": {
        "id": "KX2S9HZ3N6qN"
      },
      "execution_count": 16,
      "outputs": []
    },
    {
      "cell_type": "markdown",
      "source": [],
      "metadata": {
        "id": "_5ozX8VcGnHM"
      }
    },
    {
      "cell_type": "code",
      "source": [
        "X_train, X_val, X_test, y_train, y_val, y_test, scaler = prepare_data(final_data, feature_column='Close_GC=F', seq_len=seq_length)"
      ],
      "metadata": {
        "id": "LI6D9kR3J6R4"
      },
      "execution_count": 17,
      "outputs": []
    },
    {
      "cell_type": "code",
      "source": [
        "X_train.shape, X_val.shape, X_test.shape, y_train.shape, y_val.shape, y_test.shape"
      ],
      "metadata": {
        "colab": {
          "base_uri": "https://localhost:8080/"
        },
        "id": "otdAJVOpSPaV",
        "outputId": "2f23b38a-6e18-4a49-abe3-ef8d77efba6e"
      },
      "execution_count": 18,
      "outputs": [
        {
          "output_type": "execute_result",
          "data": {
            "text/plain": [
              "((4221, 63, 1), (1206, 63, 1), (604, 63, 1), (4221, 1), (1206, 1), (604, 1))"
            ]
          },
          "metadata": {},
          "execution_count": 18
        }
      ]
    },
    {
      "cell_type": "code",
      "source": [
        "early_stopping = EarlyStopping(patience=10, restore_best_weights=True)\n",
        "lr_reducer = ReduceLROnPlateau(factor=0.5, patience=5)\n"
      ],
      "metadata": {
        "id": "60sJtkmkSW3A"
      },
      "execution_count": 19,
      "outputs": []
    },
    {
      "cell_type": "code",
      "source": [
        "model_lstm_trf, callbacks = lstm_trf(seq_length)"
      ],
      "metadata": {
        "id": "cm8YhXm5Kq5_"
      },
      "execution_count": 20,
      "outputs": []
    },
    {
      "cell_type": "code",
      "source": [
        "history_lstm_trf = model_lstm_trf.fit(X_train, y_train,\n",
        "                  epochs= 100,\n",
        "                  batch_size=32,\n",
        "                  validation_data=(X_val, y_val),\n",
        "                  callbacks=[early_stopping, lr_reducer],\n",
        "                  verbose=1)"
      ],
      "metadata": {
        "id": "cZK0fasaGOFA",
        "colab": {
          "base_uri": "https://localhost:8080/"
        },
        "outputId": "c79ec8ce-cb3b-4c3c-ced2-649f6c9ef293"
      },
      "execution_count": 21,
      "outputs": [
        {
          "output_type": "stream",
          "name": "stdout",
          "text": [
            "Epoch 1/100\n",
            "\u001b[1m132/132\u001b[0m \u001b[32m━━━━━━━━━━━━━━━━━━━━\u001b[0m\u001b[37m\u001b[0m \u001b[1m54s\u001b[0m 328ms/step - loss: 0.5003 - mae: 0.8712 - mse: 1.3147 - val_loss: 0.0305 - val_mae: 0.2059 - val_mse: 0.0609 - learning_rate: 0.0010\n",
            "Epoch 2/100\n",
            "\u001b[1m132/132\u001b[0m \u001b[32m━━━━━━━━━━━━━━━━━━━━\u001b[0m\u001b[37m\u001b[0m \u001b[1m81s\u001b[0m 323ms/step - loss: 0.1421 - mae: 0.4154 - mse: 0.2968 - val_loss: 0.0651 - val_mae: 0.3279 - val_mse: 0.1302 - learning_rate: 0.0010\n",
            "Epoch 3/100\n",
            "\u001b[1m132/132\u001b[0m \u001b[32m━━━━━━━━━━━━━━━━━━━━\u001b[0m\u001b[37m\u001b[0m \u001b[1m84s\u001b[0m 343ms/step - loss: 0.0734 - mae: 0.2880 - mse: 0.1506 - val_loss: 0.0441 - val_mae: 0.2589 - val_mse: 0.0882 - learning_rate: 0.0010\n",
            "Epoch 4/100\n",
            "\u001b[1m132/132\u001b[0m \u001b[32m━━━━━━━━━━━━━━━━━━━━\u001b[0m\u001b[37m\u001b[0m \u001b[1m42s\u001b[0m 321ms/step - loss: 0.0513 - mae: 0.2385 - mse: 0.1037 - val_loss: 0.0124 - val_mae: 0.1446 - val_mse: 0.0248 - learning_rate: 0.0010\n",
            "Epoch 5/100\n",
            "\u001b[1m132/132\u001b[0m \u001b[32m━━━━━━━━━━━━━━━━━━━━\u001b[0m\u001b[37m\u001b[0m \u001b[1m82s\u001b[0m 325ms/step - loss: 0.0308 - mae: 0.1843 - mse: 0.0618 - val_loss: 0.0041 - val_mae: 0.0850 - val_mse: 0.0083 - learning_rate: 0.0010\n",
            "Epoch 6/100\n",
            "\u001b[1m132/132\u001b[0m \u001b[32m━━━━━━━━━━━━━━━━━━━━\u001b[0m\u001b[37m\u001b[0m \u001b[1m43s\u001b[0m 325ms/step - loss: 0.0203 - mae: 0.1522 - mse: 0.0406 - val_loss: 0.0028 - val_mae: 0.0645 - val_mse: 0.0056 - learning_rate: 0.0010\n",
            "Epoch 7/100\n",
            "\u001b[1m132/132\u001b[0m \u001b[32m━━━━━━━━━━━━━━━━━━━━\u001b[0m\u001b[37m\u001b[0m \u001b[1m82s\u001b[0m 324ms/step - loss: 0.0140 - mae: 0.1264 - mse: 0.0281 - val_loss: 7.5718e-04 - val_mae: 0.0307 - val_mse: 0.0015 - learning_rate: 0.0010\n",
            "Epoch 8/100\n",
            "\u001b[1m132/132\u001b[0m \u001b[32m━━━━━━━━━━━━━━━━━━━━\u001b[0m\u001b[37m\u001b[0m \u001b[1m82s\u001b[0m 324ms/step - loss: 0.0113 - mae: 0.1125 - mse: 0.0226 - val_loss: 0.0017 - val_mae: 0.0503 - val_mse: 0.0034 - learning_rate: 0.0010\n",
            "Epoch 9/100\n",
            "\u001b[1m132/132\u001b[0m \u001b[32m━━━━━━━━━━━━━━━━━━━━\u001b[0m\u001b[37m\u001b[0m \u001b[1m84s\u001b[0m 335ms/step - loss: 0.0078 - mae: 0.0945 - mse: 0.0155 - val_loss: 0.0013 - val_mae: 0.0423 - val_mse: 0.0025 - learning_rate: 0.0010\n",
            "Epoch 10/100\n",
            "\u001b[1m132/132\u001b[0m \u001b[32m━━━━━━━━━━━━━━━━━━━━\u001b[0m\u001b[37m\u001b[0m \u001b[1m43s\u001b[0m 327ms/step - loss: 0.0061 - mae: 0.0850 - mse: 0.0121 - val_loss: 6.9176e-04 - val_mae: 0.0284 - val_mse: 0.0014 - learning_rate: 0.0010\n",
            "Epoch 11/100\n",
            "\u001b[1m132/132\u001b[0m \u001b[32m━━━━━━━━━━━━━━━━━━━━\u001b[0m\u001b[37m\u001b[0m \u001b[1m81s\u001b[0m 324ms/step - loss: 0.0055 - mae: 0.0813 - mse: 0.0111 - val_loss: 0.0019 - val_mae: 0.0512 - val_mse: 0.0037 - learning_rate: 0.0010\n",
            "Epoch 12/100\n",
            "\u001b[1m132/132\u001b[0m \u001b[32m━━━━━━━━━━━━━━━━━━━━\u001b[0m\u001b[37m\u001b[0m \u001b[1m43s\u001b[0m 325ms/step - loss: 0.0041 - mae: 0.0707 - mse: 0.0082 - val_loss: 6.1295e-04 - val_mae: 0.0285 - val_mse: 0.0012 - learning_rate: 0.0010\n",
            "Epoch 13/100\n",
            "\u001b[1m132/132\u001b[0m \u001b[32m━━━━━━━━━━━━━━━━━━━━\u001b[0m\u001b[37m\u001b[0m \u001b[1m83s\u001b[0m 330ms/step - loss: 0.0041 - mae: 0.0720 - mse: 0.0081 - val_loss: 4.2354e-04 - val_mae: 0.0234 - val_mse: 8.4707e-04 - learning_rate: 0.0010\n",
            "Epoch 14/100\n",
            "\u001b[1m132/132\u001b[0m \u001b[32m━━━━━━━━━━━━━━━━━━━━\u001b[0m\u001b[37m\u001b[0m \u001b[1m43s\u001b[0m 327ms/step - loss: 0.0040 - mae: 0.0712 - mse: 0.0080 - val_loss: 3.0580e-04 - val_mae: 0.0184 - val_mse: 6.1160e-04 - learning_rate: 0.0010\n",
            "Epoch 15/100\n",
            "\u001b[1m132/132\u001b[0m \u001b[32m━━━━━━━━━━━━━━━━━━━━\u001b[0m\u001b[37m\u001b[0m \u001b[1m43s\u001b[0m 327ms/step - loss: 0.0036 - mae: 0.0676 - mse: 0.0073 - val_loss: 9.8892e-04 - val_mae: 0.0385 - val_mse: 0.0020 - learning_rate: 0.0010\n",
            "Epoch 16/100\n",
            "\u001b[1m132/132\u001b[0m \u001b[32m━━━━━━━━━━━━━━━━━━━━\u001b[0m\u001b[37m\u001b[0m \u001b[1m43s\u001b[0m 330ms/step - loss: 0.0035 - mae: 0.0664 - mse: 0.0070 - val_loss: 5.5147e-04 - val_mae: 0.0238 - val_mse: 0.0011 - learning_rate: 0.0010\n",
            "Epoch 17/100\n",
            "\u001b[1m132/132\u001b[0m \u001b[32m━━━━━━━━━━━━━━━━━━━━\u001b[0m\u001b[37m\u001b[0m \u001b[1m46s\u001b[0m 347ms/step - loss: 0.0037 - mae: 0.0680 - mse: 0.0075 - val_loss: 8.5936e-04 - val_mae: 0.0345 - val_mse: 0.0017 - learning_rate: 0.0010\n",
            "Epoch 18/100\n",
            "\u001b[1m132/132\u001b[0m \u001b[32m━━━━━━━━━━━━━━━━━━━━\u001b[0m\u001b[37m\u001b[0m \u001b[1m79s\u001b[0m 328ms/step - loss: 0.0034 - mae: 0.0650 - mse: 0.0068 - val_loss: 3.1794e-04 - val_mae: 0.0177 - val_mse: 6.3588e-04 - learning_rate: 0.0010\n",
            "Epoch 19/100\n",
            "\u001b[1m132/132\u001b[0m \u001b[32m━━━━━━━━━━━━━━━━━━━━\u001b[0m\u001b[37m\u001b[0m \u001b[1m82s\u001b[0m 332ms/step - loss: 0.0038 - mae: 0.0704 - mse: 0.0076 - val_loss: 6.5060e-04 - val_mae: 0.0263 - val_mse: 0.0013 - learning_rate: 0.0010\n",
            "Epoch 20/100\n",
            "\u001b[1m132/132\u001b[0m \u001b[32m━━━━━━━━━━━━━━━━━━━━\u001b[0m\u001b[37m\u001b[0m \u001b[1m82s\u001b[0m 332ms/step - loss: 0.0034 - mae: 0.0656 - mse: 0.0067 - val_loss: 5.9683e-04 - val_mae: 0.0298 - val_mse: 0.0012 - learning_rate: 5.0000e-04\n",
            "Epoch 21/100\n",
            "\u001b[1m132/132\u001b[0m \u001b[32m━━━━━━━━━━━━━━━━━━━━\u001b[0m\u001b[37m\u001b[0m \u001b[1m84s\u001b[0m 349ms/step - loss: 0.0030 - mae: 0.0617 - mse: 0.0061 - val_loss: 8.5019e-04 - val_mae: 0.0368 - val_mse: 0.0017 - learning_rate: 5.0000e-04\n",
            "Epoch 22/100\n",
            "\u001b[1m132/132\u001b[0m \u001b[32m━━━━━━━━━━━━━━━━━━━━\u001b[0m\u001b[37m\u001b[0m \u001b[1m79s\u001b[0m 327ms/step - loss: 0.0033 - mae: 0.0642 - mse: 0.0065 - val_loss: 5.0941e-04 - val_mae: 0.0269 - val_mse: 0.0010 - learning_rate: 5.0000e-04\n",
            "Epoch 23/100\n",
            "\u001b[1m132/132\u001b[0m \u001b[32m━━━━━━━━━━━━━━━━━━━━\u001b[0m\u001b[37m\u001b[0m \u001b[1m82s\u001b[0m 329ms/step - loss: 0.0030 - mae: 0.0617 - mse: 0.0060 - val_loss: 3.7788e-04 - val_mae: 0.0214 - val_mse: 7.5576e-04 - learning_rate: 5.0000e-04\n",
            "Epoch 24/100\n",
            "\u001b[1m132/132\u001b[0m \u001b[32m━━━━━━━━━━━━━━━━━━━━\u001b[0m\u001b[37m\u001b[0m \u001b[1m43s\u001b[0m 328ms/step - loss: 0.0034 - mae: 0.0662 - mse: 0.0068 - val_loss: 0.0016 - val_mae: 0.0520 - val_mse: 0.0031 - learning_rate: 5.0000e-04\n"
          ]
        }
      ]
    },
    {
      "cell_type": "code",
      "source": [
        "plt.figure(figsize=(10, 6))\n",
        "plt.plot(history_lstm_trf.history['loss'], label='Training Loss')\n",
        "plt.plot(history_lstm_trf.history['val_loss'], label='Validation Loss')\n",
        "plt.title('Model Loss LSTM  and TRF')\n",
        "plt.xlabel('Epoch')\n",
        "plt.ylabel('Loss')\n",
        "plt.legend()\n",
        "plt.grid(True)\n",
        "plt.show()"
      ],
      "metadata": {
        "id": "M5gUvxbbVwoK",
        "colab": {
          "base_uri": "https://localhost:8080/",
          "height": 605
        },
        "outputId": "f986dd22-7120-4336-956d-392bbcd078da",
        "collapsed": true
      },
      "execution_count": 22,
      "outputs": [
        {
          "output_type": "display_data",
          "data": {
            "text/plain": [
              "<Figure size 1000x600 with 1 Axes>"
            ],
            "image/png": "[encoded data removed]"
          },
          "metadata": {}
        }
      ]
    },
    {
      "cell_type": "code",
      "source": [
        "#Predicting the price for a month in the horizon\n",
        "\n",
        "horizon = 30\n",
        "\n",
        "last_date = final_data.index[-1]\n",
        "future_dates = pd.date_range(start=last_date + pd.Timedelta(days=1), periods=horizon, freq='B')\n",
        "last_sequence = X_test[-1]"
      ],
      "metadata": {
        "id": "_uja8la7Gz8G"
      },
      "execution_count": 23,
      "outputs": []
    },
    {
      "cell_type": "code",
      "source": [
        "#Prediction using lstm and transformer\n",
        "future_pred_lstm_trf = forecast_future(model_lstm_trf, last_sequence, scaler, horizon)"
      ],
      "metadata": {
        "id": "gnndE5utKC0i"
      },
      "execution_count": 24,
      "outputs": []
    },
    {
      "cell_type": "code",
      "source": [
        "plt.figure(figsize=(25, 6))\n",
        "\n",
        "#plt.plot(final_data.index[-15:], final_data['Close_GC=F'].values[-15:], label='Historical Prices', color='green')\n",
        "\n",
        "plt.plot(future_dates, future_pred_lstm_trf, label='Forecasted Prices', linestyle='--', color= 'red')\n",
        "plt.title('Gold Price Forecast LSTM  and TRF')\n",
        "plt.xlabel('Date')\n",
        "plt.ylabel('Price')\n",
        "plt.legend()\n",
        "plt.grid(True)\n",
        "plt.tight_layout()\n",
        "plt.show()"
      ],
      "metadata": {
        "id": "pOCaKL0zJN5I",
        "colab": {
          "base_uri": "https://localhost:8080/",
          "height": 358
        },
        "outputId": "6b5342be-3e2d-48be-b261-656a37cc0bf1"
      },
      "execution_count": 26,
      "outputs": [
        {
          "output_type": "display_data",
          "data": {
            "text/plain": [
              "<Figure size 2500x600 with 1 Axes>"
            ],
            "image/png": "[encoded data removed]"
          },
          "metadata": {}
        }
      ]
    }
  ],
  "metadata": {
    "kernelspec": {
      "display_name": "crysto_env",
      "language": "python",
      "name": "crysto_env"
    },
    "language_info": {
      "codemirror_mode": {
        "name": "ipython",
        "version": 3
      },
      "file_extension": ".py",
      "mimetype": "text/x-python",
      "name": "python",
      "nbconvert_exporter": "python",
      "pygments_lexer": "ipython3",
      "version": "3.13.0"
    },
    "colab": {
      "provenance": [],
      "gpuType": "T4"
    },
    "accelerator": "GPU"
  },
  "nbformat": 4,
  "nbformat_minor": 0
}